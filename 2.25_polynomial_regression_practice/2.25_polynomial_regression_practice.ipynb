{
 "cells": [
  {
   "cell_type": "code",
   "execution_count": 4,
   "metadata": {},
   "outputs": [],
   "source": [
    "import numpy as np\n",
    "import pandas as pd\n",
    "from sklearn.linear_model import LinearRegression\n",
    "from sklearn.preprocessing import PolynomialFeatures"
   ]
  },
  {
   "cell_type": "code",
   "execution_count": 5,
   "metadata": {},
   "outputs": [],
   "source": [
    "train_data = pd.read_csv('data.csv')"
   ]
  },
  {
   "cell_type": "markdown",
   "metadata": {},
   "source": [
    "# 1. Assign the data to predictor and outcome variables"
   ]
  },
  {
   "cell_type": "markdown",
   "metadata": {},
   "source": [
    "##### note1: reshape(-1,1): if the data has a single feature/column\n",
    "##### note2: reshape(1,-1): if the data has a single sample\n"
   ]
  },
  {
   "cell_type": "code",
   "execution_count": 12,
   "metadata": {},
   "outputs": [
    {
     "data": {
      "text/plain": [
       "array([[-0.33532],\n",
       "       [ 0.0216 ],\n",
       "       [-1.19438],\n",
       "       [-0.65046],\n",
       "       [-0.28001],\n",
       "       [ 1.93258],\n",
       "       [ 1.2262 ],\n",
       "       [ 0.74727],\n",
       "       [ 3.32853],\n",
       "       [ 2.87457],\n",
       "       [-1.48662],\n",
       "       [ 0.37629],\n",
       "       [ 1.43918],\n",
       "       [ 0.24183],\n",
       "       [-2.7914 ],\n",
       "       [ 1.08176],\n",
       "       [ 2.81555],\n",
       "       [ 0.54924],\n",
       "       [ 2.36449],\n",
       "       [-1.01925]])"
      ]
     },
     "execution_count": 12,
     "metadata": {},
     "output_type": "execute_result"
    }
   ],
   "source": [
    "X = train_data['Var_X'].values.reshape(-1,1)\n",
    "X"
   ]
  },
  {
   "cell_type": "code",
   "execution_count": 19,
   "metadata": {},
   "outputs": [
    {
     "data": {
      "text/plain": [
       "array([[  6.66854],\n",
       "       [  3.86398],\n",
       "       [  5.16161],\n",
       "       [  8.43823],\n",
       "       [  5.57201],\n",
       "       [-11.1327 ],\n",
       "       [ -5.31226],\n",
       "       [ -4.63725],\n",
       "       [  3.8065 ],\n",
       "       [ -6.06084],\n",
       "       [  7.22328],\n",
       "       [  2.38887],\n",
       "       [ -7.13415],\n",
       "       [  2.00412],\n",
       "       [  4.29794],\n",
       "       [ -5.86553],\n",
       "       [ -5.20711],\n",
       "       [ -3.52863],\n",
       "       [-10.16202],\n",
       "       [  5.31123]])"
      ]
     },
     "execution_count": 19,
     "metadata": {},
     "output_type": "execute_result"
    }
   ],
   "source": [
    "y = train_data['Var_Y'].values.reshape(-1,1)\n",
    "y"
   ]
  },
  {
   "cell_type": "markdown",
   "metadata": {},
   "source": [
    "# 2. Create polynomial features\n",
    "# TODO: Create a PolynomialFeatures object, then fit and transform the\n",
    "# predictor feature"
   ]
  },
  {
   "cell_type": "code",
   "execution_count": 22,
   "metadata": {},
   "outputs": [],
   "source": [
    "poly_feature = PolynomialFeatures(degree=1)"
   ]
  },
  {
   "cell_type": "code",
   "execution_count": 18,
   "metadata": {},
   "outputs": [
    {
     "data": {
      "text/plain": [
       "array([[ 1.00000000e+00, -3.35320000e-01,  1.12439502e-01,\n",
       "        -3.77032139e-02,  1.26426417e-02],\n",
       "       [ 1.00000000e+00,  2.16000000e-02,  4.66560000e-04,\n",
       "         1.00776960e-05,  2.17678234e-07],\n",
       "       [ 1.00000000e+00, -1.19438000e+00,  1.42654358e+00,\n",
       "        -1.70383513e+00,  2.03502660e+00],\n",
       "       [ 1.00000000e+00, -6.50460000e-01,  4.23098212e-01,\n",
       "        -2.75208463e-01,  1.79012097e-01],\n",
       "       [ 1.00000000e+00, -2.80010000e-01,  7.84056001e-02,\n",
       "        -2.19543521e-02,  6.14743813e-03],\n",
       "       [ 1.00000000e+00,  1.93258000e+00,  3.73486546e+00,\n",
       "         7.21792628e+00,  1.39492200e+01],\n",
       "       [ 1.00000000e+00,  1.22620000e+00,  1.50356644e+00,\n",
       "         1.84367317e+00,  2.26071204e+00],\n",
       "       [ 1.00000000e+00,  7.47270000e-01,  5.58412453e-01,\n",
       "         4.17284874e-01,  3.11824468e-01],\n",
       "       [ 1.00000000e+00,  3.32853000e+00,  1.10791120e+01,\n",
       "         3.68771565e+01,  1.22746722e+02],\n",
       "       [ 1.00000000e+00,  2.87457000e+00,  8.26315268e+00,\n",
       "         2.37530108e+01,  6.82796923e+01],\n",
       "       [ 1.00000000e+00, -1.48662000e+00,  2.21003902e+00,\n",
       "        -3.28548821e+00,  4.88427249e+00],\n",
       "       [ 1.00000000e+00,  3.76290000e-01,  1.41594164e-01,\n",
       "         5.32804680e-02,  2.00489073e-02],\n",
       "       [ 1.00000000e+00,  1.43918000e+00,  2.07123907e+00,\n",
       "         2.98088585e+00,  4.29003130e+00],\n",
       "       [ 1.00000000e+00,  2.41830000e-01,  5.84817489e-02,\n",
       "         1.41426413e-02,  3.42011495e-03],\n",
       "       [ 1.00000000e+00, -2.79140000e+00,  7.79191396e+00,\n",
       "        -2.17503486e+01,  6.07139232e+01],\n",
       "       [ 1.00000000e+00,  1.08176000e+00,  1.17020470e+00,\n",
       "         1.26588063e+00,  1.36937903e+00],\n",
       "       [ 1.00000000e+00,  2.81555000e+00,  7.92732180e+00,\n",
       "         2.23197709e+01,  6.28424310e+01],\n",
       "       [ 1.00000000e+00,  5.49240000e-01,  3.01664578e-01,\n",
       "         1.65686253e-01,  9.10015174e-02],\n",
       "       [ 1.00000000e+00,  2.36449000e+00,  5.59081296e+00,\n",
       "         1.32194213e+01,  3.12571896e+01],\n",
       "       [ 1.00000000e+00, -1.01925000e+00,  1.03887056e+00,\n",
       "        -1.05886882e+00,  1.07925205e+00]])"
      ]
     },
     "execution_count": 18,
     "metadata": {},
     "output_type": "execute_result"
    }
   ],
   "source": [
    "X_poly = poly_feature.fit_transform(X)\n",
    "X_poly"
   ]
  },
  {
   "cell_type": "markdown",
   "metadata": {},
   "source": [
    "# 3. Make and fit the polynomial regression model\n",
    "# TODO: Create a LinearRegression object and fit it to the polynomial predictor features"
   ]
  },
  {
   "cell_type": "code",
   "execution_count": 20,
   "metadata": {},
   "outputs": [],
   "source": [
    "poly_model = LinearRegression(fit_intercept = False).fit(X_poly, y)"
   ]
  },
  {
   "cell_type": "code",
   "execution_count": 21,
   "metadata": {},
   "outputs": [
    {
     "data": {
      "text/plain": [
       "LinearRegression(copy_X=True, fit_intercept=False, n_jobs=None, normalize=False)"
      ]
     },
     "execution_count": 21,
     "metadata": {},
     "output_type": "execute_result"
    }
   ],
   "source": [
    "poly_model"
   ]
  },
  {
   "cell_type": "code",
   "execution_count": null,
   "metadata": {},
   "outputs": [],
   "source": []
  },
  {
   "cell_type": "code",
   "execution_count": null,
   "metadata": {},
   "outputs": [],
   "source": []
  },
  {
   "cell_type": "code",
   "execution_count": null,
   "metadata": {},
   "outputs": [],
   "source": []
  }
 ],
 "metadata": {
  "kernelspec": {
   "display_name": "Python 3",
   "language": "python",
   "name": "python3"
  },
  "language_info": {
   "codemirror_mode": {
    "name": "ipython",
    "version": 3
   },
   "file_extension": ".py",
   "mimetype": "text/x-python",
   "name": "python",
   "nbconvert_exporter": "python",
   "pygments_lexer": "ipython3",
   "version": "3.7.6"
  }
 },
 "nbformat": 4,
 "nbformat_minor": 4
}
