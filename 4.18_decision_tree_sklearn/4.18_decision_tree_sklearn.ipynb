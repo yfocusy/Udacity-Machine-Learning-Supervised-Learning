{
 "cells": [
  {
   "cell_type": "code",
   "execution_count": 1,
   "metadata": {},
   "outputs": [],
   "source": [
    "from sklearn.tree import DecisionTreeClassifier\n",
    "from sklearn.metrics import accuracy_score\n",
    "import pandas as pd\n",
    "import numpy as np"
   ]
  },
  {
   "cell_type": "markdown",
   "metadata": {},
   "source": []
  },
  {
   "cell_type": "code",
   "execution_count": 2,
   "metadata": {},
   "outputs": [
    {
     "data": {
      "text/html": [
       "<div>\n",
       "<style scoped>\n",
       "    .dataframe tbody tr th:only-of-type {\n",
       "        vertical-align: middle;\n",
       "    }\n",
       "\n",
       "    .dataframe tbody tr th {\n",
       "        vertical-align: top;\n",
       "    }\n",
       "\n",
       "    .dataframe thead th {\n",
       "        text-align: right;\n",
       "    }\n",
       "</style>\n",
       "<table border=\"1\" class=\"dataframe\">\n",
       "  <thead>\n",
       "    <tr style=\"text-align: right;\">\n",
       "      <th></th>\n",
       "      <th>0</th>\n",
       "      <th>1</th>\n",
       "      <th>2</th>\n",
       "    </tr>\n",
       "  </thead>\n",
       "  <tbody>\n",
       "    <tr>\n",
       "      <th>0</th>\n",
       "      <td>0.245390</td>\n",
       "      <td>0.81725</td>\n",
       "      <td>0</td>\n",
       "    </tr>\n",
       "    <tr>\n",
       "      <th>1</th>\n",
       "      <td>0.217740</td>\n",
       "      <td>0.76462</td>\n",
       "      <td>0</td>\n",
       "    </tr>\n",
       "    <tr>\n",
       "      <th>2</th>\n",
       "      <td>0.201610</td>\n",
       "      <td>0.69737</td>\n",
       "      <td>0</td>\n",
       "    </tr>\n",
       "    <tr>\n",
       "      <th>3</th>\n",
       "      <td>0.201610</td>\n",
       "      <td>0.58041</td>\n",
       "      <td>0</td>\n",
       "    </tr>\n",
       "    <tr>\n",
       "      <th>4</th>\n",
       "      <td>0.247700</td>\n",
       "      <td>0.49561</td>\n",
       "      <td>0</td>\n",
       "    </tr>\n",
       "    <tr>\n",
       "      <th>...</th>\n",
       "      <td>...</td>\n",
       "      <td>...</td>\n",
       "      <td>...</td>\n",
       "    </tr>\n",
       "    <tr>\n",
       "      <th>91</th>\n",
       "      <td>0.155530</td>\n",
       "      <td>0.13596</td>\n",
       "      <td>1</td>\n",
       "    </tr>\n",
       "    <tr>\n",
       "      <th>92</th>\n",
       "      <td>0.238480</td>\n",
       "      <td>0.12427</td>\n",
       "      <td>1</td>\n",
       "    </tr>\n",
       "    <tr>\n",
       "      <th>93</th>\n",
       "      <td>0.330650</td>\n",
       "      <td>0.12427</td>\n",
       "      <td>1</td>\n",
       "    </tr>\n",
       "    <tr>\n",
       "      <th>94</th>\n",
       "      <td>0.095622</td>\n",
       "      <td>0.26170</td>\n",
       "      <td>1</td>\n",
       "    </tr>\n",
       "    <tr>\n",
       "      <th>95</th>\n",
       "      <td>0.091014</td>\n",
       "      <td>0.20322</td>\n",
       "      <td>1</td>\n",
       "    </tr>\n",
       "  </tbody>\n",
       "</table>\n",
       "<p>96 rows × 3 columns</p>\n",
       "</div>"
      ],
      "text/plain": [
       "           0        1  2\n",
       "0   0.245390  0.81725  0\n",
       "1   0.217740  0.76462  0\n",
       "2   0.201610  0.69737  0\n",
       "3   0.201610  0.58041  0\n",
       "4   0.247700  0.49561  0\n",
       "..       ...      ... ..\n",
       "91  0.155530  0.13596  1\n",
       "92  0.238480  0.12427  1\n",
       "93  0.330650  0.12427  1\n",
       "94  0.095622  0.26170  1\n",
       "95  0.091014  0.20322  1\n",
       "\n",
       "[96 rows x 3 columns]"
      ]
     },
     "execution_count": 2,
     "metadata": {},
     "output_type": "execute_result"
    }
   ],
   "source": [
    "data = pd.read_csv('data.csv',header=None)\n",
    "data"
   ]
  },
  {
   "cell_type": "code",
   "execution_count": 3,
   "metadata": {},
   "outputs": [
    {
     "data": {
      "text/plain": [
       "array([[0.24539 , 0.81725 ],\n",
       "       [0.21774 , 0.76462 ],\n",
       "       [0.20161 , 0.69737 ],\n",
       "       [0.20161 , 0.58041 ],\n",
       "       [0.2477  , 0.49561 ],\n",
       "       [0.32834 , 0.44883 ],\n",
       "       [0.39516 , 0.48099 ],\n",
       "       [0.39286 , 0.57164 ],\n",
       "       [0.33525 , 0.62135 ],\n",
       "       [0.33986 , 0.71199 ],\n",
       "       [0.34447 , 0.81433 ],\n",
       "       [0.28226 , 0.82602 ],\n",
       "       [0.26613 , 0.75    ],\n",
       "       [0.26613 , 0.63596 ],\n",
       "       [0.32604 , 0.54825 ],\n",
       "       [0.28917 , 0.65643 ],\n",
       "       [0.80069 , 0.71491 ],\n",
       "       [0.80069 , 0.64181 ],\n",
       "       [0.80069 , 0.50146 ],\n",
       "       [0.79839 , 0.36988 ],\n",
       "       [0.73157 , 0.25    ],\n",
       "       [0.63249 , 0.18275 ],\n",
       "       [0.60023 , 0.27047 ],\n",
       "       [0.66014 , 0.34649 ],\n",
       "       [0.70161 , 0.42251 ],\n",
       "       [0.70853 , 0.53947 ],\n",
       "       [0.71544 , 0.63304 ],\n",
       "       [0.74309 , 0.72076 ],\n",
       "       [0.75    , 0.63596 ],\n",
       "       [0.75    , 0.46345 ],\n",
       "       [0.72235 , 0.35526 ],\n",
       "       [0.66935 , 0.28509 ],\n",
       "       [0.20622 , 0.94298 ],\n",
       "       [0.26613 , 0.8962  ],\n",
       "       [0.38134 , 0.8962  ],\n",
       "       [0.42051 , 0.94591 ],\n",
       "       [0.49885 , 0.86404 ],\n",
       "       [0.31452 , 0.93421 ],\n",
       "       [0.53111 , 0.72076 ],\n",
       "       [0.45276 , 0.74415 ],\n",
       "       [0.53571 , 0.6038  ],\n",
       "       [0.60484 , 0.71491 ],\n",
       "       [0.60945 , 0.58333 ],\n",
       "       [0.51267 , 0.47807 ],\n",
       "       [0.50806 , 0.59211 ],\n",
       "       [0.46198 , 0.30556 ],\n",
       "       [0.5288  , 0.41082 ],\n",
       "       [0.38594 , 0.35819 ],\n",
       "       [0.31682 , 0.31433 ],\n",
       "       [0.29608 , 0.20906 ],\n",
       "       [0.36982 , 0.27632 ],\n",
       "       [0.42972 , 0.18275 ],\n",
       "       [0.51498 , 0.10965 ],\n",
       "       [0.53111 , 0.20906 ],\n",
       "       [0.59793 , 0.095029],\n",
       "       [0.73848 , 0.086257],\n",
       "       [0.83065 , 0.18275 ],\n",
       "       [0.8629  , 0.10965 ],\n",
       "       [0.88364 , 0.27924 ],\n",
       "       [0.93433 , 0.30848 ],\n",
       "       [0.93433 , 0.19444 ],\n",
       "       [0.92512 , 0.43421 ],\n",
       "       [0.87903 , 0.43421 ],\n",
       "       [0.87903 , 0.58626 ],\n",
       "       [0.9182  , 0.71491 ],\n",
       "       [0.85138 , 0.8348  ],\n",
       "       [0.85599 , 0.94006 ],\n",
       "       [0.70853 , 0.94298 ],\n",
       "       [0.70853 , 0.87281 ],\n",
       "       [0.59793 , 0.93129 ],\n",
       "       [0.61175 , 0.83187 ],\n",
       "       [0.78226 , 0.82895 ],\n",
       "       [0.78917 , 0.8962  ],\n",
       "       [0.90668 , 0.89912 ],\n",
       "       [0.14862 , 0.92251 ],\n",
       "       [0.15092 , 0.85819 ],\n",
       "       [0.097926, 0.85819 ],\n",
       "       [0.079493, 0.91374 ],\n",
       "       [0.079493, 0.77632 ],\n",
       "       [0.10945 , 0.79678 ],\n",
       "       [0.12327 , 0.67982 ],\n",
       "       [0.077189, 0.6886  ],\n",
       "       [0.081797, 0.58626 ],\n",
       "       [0.14862 , 0.58041 ],\n",
       "       [0.14862 , 0.5307  ],\n",
       "       [0.14171 , 0.41959 ],\n",
       "       [0.08871 , 0.49269 ],\n",
       "       [0.095622, 0.36696 ],\n",
       "       [0.24539 , 0.3962  ],\n",
       "       [0.1947  , 0.29678 ],\n",
       "       [0.16935 , 0.22368 ],\n",
       "       [0.15553 , 0.13596 ],\n",
       "       [0.23848 , 0.12427 ],\n",
       "       [0.33065 , 0.12427 ],\n",
       "       [0.095622, 0.2617  ],\n",
       "       [0.091014, 0.20322 ]])"
      ]
     },
     "execution_count": 3,
     "metadata": {},
     "output_type": "execute_result"
    }
   ],
   "source": [
    "x_values = np.asarray(data.iloc[:,:-1])\n",
    "x_values "
   ]
  },
  {
   "cell_type": "code",
   "execution_count": 4,
   "metadata": {
    "scrolled": true
   },
   "outputs": [
    {
     "data": {
      "text/plain": [
       "array([0, 0, 0, 0, 0, 0, 0, 0, 0, 0, 0, 0, 0, 0, 0, 0, 0, 0, 0, 0, 0, 0,\n",
       "       0, 0, 0, 0, 0, 0, 0, 0, 0, 0, 1, 1, 1, 1, 1, 1, 1, 1, 1, 1, 1, 1,\n",
       "       1, 1, 1, 1, 1, 1, 1, 1, 1, 1, 1, 1, 1, 1, 1, 1, 1, 1, 1, 1, 1, 1,\n",
       "       1, 1, 1, 1, 1, 1, 1, 1, 1, 1, 1, 1, 1, 1, 1, 1, 1, 1, 1, 1, 1, 1,\n",
       "       1, 1, 1, 1, 1, 1, 1, 1])"
      ]
     },
     "execution_count": 4,
     "metadata": {},
     "output_type": "execute_result"
    }
   ],
   "source": [
    "Y_values = np.asarray(data.iloc[:,-1])\n",
    "Y_values "
   ]
  },
  {
   "cell_type": "markdown",
   "metadata": {},
   "source": [
    "# TODO: Create the decision tree model and assign it to the variable model."
   ]
  },
  {
   "cell_type": "code",
   "execution_count": 5,
   "metadata": {},
   "outputs": [],
   "source": [
    "model = DecisionTreeClassifier()"
   ]
  },
  {
   "cell_type": "markdown",
   "metadata": {},
   "source": [
    "# TODO: Fit the model."
   ]
  },
  {
   "cell_type": "code",
   "execution_count": 6,
   "metadata": {
    "scrolled": true
   },
   "outputs": [
    {
     "data": {
      "text/plain": [
       "DecisionTreeClassifier(ccp_alpha=0.0, class_weight=None, criterion='gini',\n",
       "                       max_depth=None, max_features=None, max_leaf_nodes=None,\n",
       "                       min_impurity_decrease=0.0, min_impurity_split=None,\n",
       "                       min_samples_leaf=1, min_samples_split=2,\n",
       "                       min_weight_fraction_leaf=0.0, presort='deprecated',\n",
       "                       random_state=None, splitter='best')"
      ]
     },
     "execution_count": 6,
     "metadata": {},
     "output_type": "execute_result"
    }
   ],
   "source": [
    "model.fit(x_values, Y_values)"
   ]
  },
  {
   "cell_type": "markdown",
   "metadata": {},
   "source": [
    "# TODO: Make predictions. Store them in the variable y_pred."
   ]
  },
  {
   "cell_type": "code",
   "execution_count": 8,
   "metadata": {
    "scrolled": true
   },
   "outputs": [
    {
     "data": {
      "text/plain": [
       "array([0, 0, 0, 0, 0, 0, 0, 0, 0, 0, 0, 0, 0, 0, 0, 0, 0, 0, 0, 0, 0, 0,\n",
       "       0, 0, 0, 0, 0, 0, 0, 0, 0, 0, 1, 1, 1, 1, 1, 1, 1, 1, 1, 1, 1, 1,\n",
       "       1, 1, 1, 1, 1, 1, 1, 1, 1, 1, 1, 1, 1, 1, 1, 1, 1, 1, 1, 1, 1, 1,\n",
       "       1, 1, 1, 1, 1, 1, 1, 1, 1, 1, 1, 1, 1, 1, 1, 1, 1, 1, 1, 1, 1, 1,\n",
       "       1, 1, 1, 1, 1, 1, 1, 1])"
      ]
     },
     "execution_count": 8,
     "metadata": {},
     "output_type": "execute_result"
    }
   ],
   "source": [
    "y_pred = model.predict(x_values)\n",
    "y_pred"
   ]
  },
  {
   "cell_type": "markdown",
   "metadata": {},
   "source": [
    "# Calculate the accuracy and assign it to the variable acc."
   ]
  },
  {
   "cell_type": "code",
   "execution_count": 11,
   "metadata": {},
   "outputs": [
    {
     "data": {
      "text/plain": [
       "1.0"
      ]
     },
     "execution_count": 11,
     "metadata": {},
     "output_type": "execute_result"
    }
   ],
   "source": [
    "acc = accuracy_score(Y_values,y_pred)\n",
    "acc"
   ]
  },
  {
   "cell_type": "code",
   "execution_count": null,
   "metadata": {},
   "outputs": [],
   "source": []
  },
  {
   "cell_type": "code",
   "execution_count": null,
   "metadata": {},
   "outputs": [],
   "source": []
  },
  {
   "cell_type": "code",
   "execution_count": null,
   "metadata": {},
   "outputs": [],
   "source": []
  },
  {
   "cell_type": "code",
   "execution_count": null,
   "metadata": {},
   "outputs": [],
   "source": []
  }
 ],
 "metadata": {
  "kernelspec": {
   "display_name": "Python 3",
   "language": "python",
   "name": "python3"
  },
  "language_info": {
   "codemirror_mode": {
    "name": "ipython",
    "version": 3
   },
   "file_extension": ".py",
   "mimetype": "text/x-python",
   "name": "python",
   "nbconvert_exporter": "python",
   "pygments_lexer": "ipython3",
   "version": "3.7.6"
  }
 },
 "nbformat": 4,
 "nbformat_minor": 4
}
